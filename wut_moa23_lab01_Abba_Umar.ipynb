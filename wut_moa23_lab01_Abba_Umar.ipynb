{
 "cells": [
  {
   "cell_type": "markdown",
   "id": "9becd9c3-dbce-4298-9ef4-688fe273f662",
   "metadata": {},
   "source": [
    "# Lab 1. Modelling and Optimization"
   ]
  },
  {
   "cell_type": "code",
   "execution_count": 2,
   "id": "0841f20d-dc12-4e4d-a080-e399260d7a97",
   "metadata": {},
   "outputs": [],
   "source": [
    "# Import Libraries\n",
    "import pulp"
   ]
  },
  {
   "cell_type": "markdown",
   "id": "d0556f5c-f263-4da1-8b88-35eaa7bbe965",
   "metadata": {},
   "source": [
    "# Excercise 1. Glass Manufacturing Company\n",
    "\n",
    "* You are planning the production at a glass manufacturer.\n",
    "* This manufacturer only produces wine and beer glasses.\n",
    "* There is a maximum production capacity of 60 hours.\n",
    "* Each batch of wine and beer glasses takes 6 and 5 hours respectively.\n",
    "* The warehouse has a maximum capacity of 150 m3 spaces.\n",
    "* Each batch of the wine and beer glasses takes 10 and 20 m3 respectively.\n",
    "* The production equipment can only make full batches, no partial batches.\n",
    "* We only have orders for 6 batches of wine glasses.\n",
    "* Each batch of wine glasses earns a profit of 5 USD and the beer 4.5 USD.\n",
    "* The objective is to maximize the profit for the manufacturer."
   ]
  },
  {
   "cell_type": "code",
   "execution_count": 3,
   "id": "8e96448d-ccf7-444b-bcdf-daa50eec6757",
   "metadata": {},
   "outputs": [
    {
     "name": "stdout",
     "output_type": "stream",
     "text": [
      "Number of wine glass batches to produce: 6.0\n",
      "Number of beer glass batches to produce: 4.0\n",
      "Maximum profit: $48.00\n"
     ]
    }
   ],
   "source": [
    "# 1. Initialize Model\n",
    "GMC_problem = pulp.LpProblem(\"Glass_Manufacturing_Profit_Maximization\", pulp.LpMaximize)\n",
    "\n",
    "# 2. Define Decision Variables\n",
    "wine = pulp.LpVariable(\"Wine_Glasses_Batches\", lowBound=0, cat=pulp.LpInteger)\n",
    "beer = pulp.LpVariable(\"Beer_Glasses_Batches\", lowBound=0, cat=pulp.LpInteger)\n",
    "# 3. Define Objective Function\n",
    "profit = 5 * wine + 4.5 * beer\n",
    "GMC_problem += profit\n",
    "# 4. Define Constraints\n",
    "GMC_problem += 6 * wine + 5 * beer <= 60 \n",
    "GMC_problem += 10 * wine + 20 * beer <= 150\n",
    "GMC_problem += wine <= 6\n",
    "\n",
    "# 5. Solve Model\n",
    "GMC_problem.solve()\n",
    "\n",
    "# 6. Print Results\n",
    "optimal_wine = wine.varValue\n",
    "optimal_beer = beer.varValue\n",
    "maximum_profit = pulp.value(GMC_problem.objective)\n",
    "print(f\"Number of wine glass batches to produce: {optimal_wine}\")\n",
    "print(f\"Number of beer glass batches to produce: {optimal_beer}\")\n",
    "print(f\"Maximum profit: ${maximum_profit:.2f}\")"
   ]
  },
  {
   "cell_type": "markdown",
   "id": "12624d5c-1485-44dd-b55b-6dc0922f3ecb",
   "metadata": {},
   "source": [
    "### Exercise 2. Logistic Planning Problem\n",
    "\n",
    "* You are consulting for kitchen oven manufacturer helping to plan their logistics for next month.\n",
    "* There are two warehouse locations (Lyon and Bilbao)\n",
    "* There are four regional customer locations (Portugal, Spain, France, Italy)\n",
    "* The expected demand next month are:\n",
    "* for Italy it is 1,800\n",
    "* for France it is 1,200\n",
    "* for the Spain it is 1,100\n",
    "* and for Portugal it is 1000.\n",
    "* The cost for shipping each of the warehouse locations to the regional customer's are the next:\n",
    "* Italy to Bilbao 211 USD, France to Bilbao 232 USD, Spain to Bilbao 240 USD, Portugal to Bilbao 300 USD\n",
    "* Italy to Lyon 232 USD, France to Lyon 212 USD, Spain to Lyon 230 USD, Portugal to Lyon 280 USD.\n",
    "* Your goal is to fullfill the regional demand at the lowest price."
   ]
  },
  {
   "cell_type": "code",
   "execution_count": 6,
   "id": "0026274a-320b-4af2-b107-fcdd101ddac9",
   "metadata": {},
   "outputs": [
    {
     "name": "stdout",
     "output_type": "stream",
     "text": [
      "Optimal Solution:\n",
      "Ship 1000.0 ovens from Lyon to Portugal\n",
      "Ship 1100.0 ovens from Lyon to Spain\n",
      "Ship 1200.0 ovens from Lyon to France\n",
      "Ship 0.0 ovens from Lyon to Italy\n",
      "Ship 0.0 ovens from Bilbao to Portugal\n",
      "Ship 0.0 ovens from Bilbao to Spain\n",
      "Ship 0.0 ovens from Bilbao to France\n",
      "Ship 1800.0 ovens from Bilbao to Italy\n",
      "Total Cost: $1167200.0\n"
     ]
    }
   ],
   "source": [
    "# 1. Initialize Model\n",
    "LPP_problem = pulp.LpProblem(\"Logistics_Problem\", pulp.LpMinimize)\n",
    "# 2. Define Decision Variables\n",
    "warehouses = [\"Lyon\", \"Bilbao\"]\n",
    "customers_region = [\"Portugal\", \"Spain\", \"France\", \"Italy\"]\n",
    "shipping_costs = {\n",
    "    (\"Italy\", \"Bilbao\"): 211,\n",
    "    (\"France\", \"Bilbao\"): 232,\n",
    "    (\"Spain\", \"Bilbao\"): 240,\n",
    "    (\"Portugal\", \"Bilbao\"): 300,\n",
    "    (\"Italy\", \"Lyon\"): 232,\n",
    "    (\"France\", \"Lyon\"): 212,\n",
    "    (\"Spain\", \"Lyon\"): 230,\n",
    "    (\"Portugal\", \"Lyon\"): 280,\n",
    "}\n",
    "x = pulp.LpVariable.dicts(\"ship\", ((i, j) for i in customers_region for j in warehouses), lowBound=0, cat=pulp.LpInteger)\n",
    "# 3. Define Objective Function\n",
    "LPP_problem += pulp.lpSum(x[i, j] * shipping_costs[i, j]  for i in customers_region for j in warehouses)\n",
    "\n",
    "# 4. Define Constraints\n",
    "demand = {\n",
    "    \"Italy\": 1800,\n",
    "    \"France\": 1200,\n",
    "    \"Spain\": 1100,\n",
    "    \"Portugal\": 1000,\n",
    "}\n",
    "for i in customers_region:\n",
    "    LPP_problem += pulp.lpSum(x[i, j] for j in warehouses) == demand[i]\n",
    "\n",
    "# 5. Solve Model\n",
    "LPP_problem.solve()\n",
    "\n",
    "# 6. Print Results\n",
    "print(\"Optimal Solution:\")\n",
    "for i in warehouses:\n",
    "    for j in customers_region:\n",
    "        print(f\"Ship {x[j, i].varValue} ovens from {i} to {j}\")\n",
    "\n",
    "print(f\"Total Cost: ${pulp.value(LPP_problem.objective)}\")"
   ]
  }
 ],
 "metadata": {
  "kernelspec": {
   "display_name": "Python 3 (ipykernel)",
   "language": "python",
   "name": "python3"
  },
  "language_info": {
   "codemirror_mode": {
    "name": "ipython",
    "version": 3
   },
   "file_extension": ".py",
   "mimetype": "text/x-python",
   "name": "python",
   "nbconvert_exporter": "python",
   "pygments_lexer": "ipython3",
   "version": "3.11.3"
  }
 },
 "nbformat": 4,
 "nbformat_minor": 5
}
